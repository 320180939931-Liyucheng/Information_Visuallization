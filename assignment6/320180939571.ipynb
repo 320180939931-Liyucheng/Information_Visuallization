{
 "cells": [
  {
   "cell_type": "code",
   "execution_count": 1,
   "metadata": {},
   "outputs": [],
   "source": [
    "import matplotlib as mpl\n",
    "import matplotlib.pyplot as plt\n",
    "import matplotlib.lines as mlines"
   ]
  },
  {
   "cell_type": "code",
   "execution_count": 2,
   "metadata": {},
   "outputs": [],
   "source": [
    "def skinnybar(ax, y_data, x_data):\n",
    "    xrange = max(x_data)\n",
    "    yrange = max(y_data)\n",
    "    ax.set_xlim((0, 1.2*xrange))\n",
    "    ax.set_ylim((0, 1.2*yrange))\n",
    "    for n, k in zip(x_data, y_data):\n",
    "        l1 = mlines.Line2D([n, n], [0, k], color = 'black')\n",
    "        ax.add_line(l1)\n",
    "        l2 = mlines.Line2D([n-0.03*xrange, n+0.03*xrange], [k, k], color = 'black')\n",
    "        ax.add_line(l2)\n",
    "#define the function"
   ]
  },
  {
   "cell_type": "code",
   "execution_count": 3,
   "metadata": {},
   "outputs": [],
   "source": [
    "my_x_data = [100, 200, 300, 400, 500, 600, 700, 800]\n",
    "my_y_data = [400, 500, 900, 100, 700, 1500, 600, 300]\n",
    "#make up a data set"
   ]
  },
  {
   "cell_type": "code",
   "execution_count": 4,
   "metadata": {},
   "outputs": [
    {
     "data": {
      "image/png": "[encoded data removed]",
      "text/plain": [
       "<Figure size 432x288 with 1 Axes>"
      ]
     },
     "metadata": {
      "needs_background": "light"
     },
     "output_type": "display_data"
    }
   ],
   "source": [
    "my_fig, my_ax = plt.subplots()\n",
    "skinnybar(my_ax, my_y_data, my_x_data) \n",
    "#draw skinnybar"
   ]
  },
  {
   "cell_type": "code",
   "execution_count": 5,
   "metadata": {},
   "outputs": [
    {
     "data": {
      "text/plain": [
       "<BarContainer object of 8 artists>"
      ]
     },
     "execution_count": 5,
     "metadata": {},
     "output_type": "execute_result"
    },
    {
     "data": {
      "image/png": "[encoded data removed]",
      "text/plain": [
       "<Figure size 432x288 with 1 Axes>"
      ]
     },
     "metadata": {
      "needs_background": "light"
     },
     "output_type": "display_data"
    }
   ],
   "source": [
    "my_fig1, my_ax1 = plt.subplots()\n",
    "my_ax1.set_xlim((0, 1.2*max(my_x_data)))\n",
    "my_ax1.set_ylim((0, 1.2*max(my_y_data)))\n",
    "plt.bar(my_x_data, height=my_y_data, width=0.03*max(my_x_data))   #draw the barplot with the same data set"
   ]
  },
  {
   "cell_type": "code",
   "execution_count": null,
   "metadata": {},
   "outputs": [],
   "source": []
  },
  {
   "cell_type": "code",
   "execution_count": null,
   "metadata": {},
   "outputs": [],
   "source": []
  },
  {
   "cell_type": "code",
   "execution_count": null,
   "metadata": {},
   "outputs": [],
   "source": []
  },
  {
   "cell_type": "code",
   "execution_count": null,
   "metadata": {},
   "outputs": [],
   "source": []
  },
  {
   "cell_type": "code",
   "execution_count": null,
   "metadata": {},
   "outputs": [],
   "source": []
  }
 ],
 "metadata": {
  "kernelspec": {
   "display_name": "Python 3",
   "language": "python",
   "name": "python3"
  },
  "language_info": {
   "codemirror_mode": {
    "name": "ipython",
    "version": 3
   },
   "file_extension": ".py",
   "mimetype": "text/x-python",
   "name": "python",
   "nbconvert_exporter": "python",
   "pygments_lexer": "ipython3",
   "version": "3.7.4"
  }
 },
 "nbformat": 4,
 "nbformat_minor": 2
}
