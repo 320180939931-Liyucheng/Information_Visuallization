{
 "cells": [
  {
   "cell_type": "code",
   "execution_count": 1,
   "metadata": {},
   "outputs": [],
   "source": [
    "import matplotlib.pyplot as plt"
   ]
  },
  {
   "cell_type": "code",
   "execution_count": 12,
   "metadata": {},
   "outputs": [
    {
     "ename": "SyntaxError",
     "evalue": "invalid character in identifier (<ipython-input-12-abd7c5dbe6b4>, line 13)",
     "output_type": "error",
     "traceback": [
      "\u001b[0;36m  File \u001b[0;32m\"<ipython-input-12-abd7c5dbe6b4>\"\u001b[0;36m, line \u001b[0;32m13\u001b[0m\n\u001b[0;31m    width = （'箱子上界' - '箱子下界' ）/ 20\u001b[0m\n\u001b[0m            ^\u001b[0m\n\u001b[0;31mSyntaxError\u001b[0m\u001b[0;31m:\u001b[0m invalid character in identifier\n"
     ]
    }
   ],
   "source": [
    "fig, ax = plt.subplots()\n",
    "\n",
    "\n",
    "    \n",
    "sharelist = [] #换成你统计的占比的list，这里面应该有20个元素  是把箱子平均分成20个区间，每个区间的数据量在总数据量的比例，是个百分数 比如占比0.2就写20\n",
    "\n",
    "colorlist = []\n",
    "for i in sharelist:\n",
    "    temp1 = 0.01 * i\n",
    "    temp2 = str(temp1)\n",
    "    colorlist.append(temp2)\n",
    "    \n",
    "width = （'箱子上界' - '箱子下界' ）/ 20\n",
    "\n",
    "\n",
    "位置list1 = []\n",
    "\n",
    "    for i in 位置list\n",
    "    temp = line2D('位置list' ,'灰度颜色' '宽度' = width )\n",
    "    ax.addline(temp)"
   ]
  },
  {
   "cell_type": "code",
   "execution_count": 4,
   "metadata": {},
   "outputs": [
    {
     "ename": "SyntaxError",
     "evalue": "invalid syntax (<ipython-input-4-654755f87147>, line 5)",
     "output_type": "error",
     "traceback": [
      "\u001b[0;36m  File \u001b[0;32m\"<ipython-input-4-654755f87147>\"\u001b[0;36m, line \u001b[0;32m5\u001b[0m\n\u001b[0;31m    def CustomCmap((0,0,0),(0,255,0)):\u001b[0m\n\u001b[0m                   ^\u001b[0m\n\u001b[0;31mSyntaxError\u001b[0m\u001b[0;31m:\u001b[0m invalid syntax\n"
     ]
    }
   ],
   "source": []
  },
  {
   "cell_type": "code",
   "execution_count": null,
   "metadata": {},
   "outputs": [],
   "source": []
  }
 ],
 "metadata": {
  "kernelspec": {
   "display_name": "Python 3",
   "language": "python",
   "name": "python3"
  },
  "language_info": {
   "codemirror_mode": {
    "name": "ipython",
    "version": 3
   },
   "file_extension": ".py",
   "mimetype": "text/x-python",
   "name": "python",
   "nbconvert_exporter": "python",
   "pygments_lexer": "ipython3",
   "version": "3.7.4"
  }
 },
 "nbformat": 4,
 "nbformat_minor": 2
}
